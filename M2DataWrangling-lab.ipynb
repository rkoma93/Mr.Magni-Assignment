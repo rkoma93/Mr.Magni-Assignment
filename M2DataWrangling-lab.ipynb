{
 "cells": [
  {
   "cell_type": "markdown",
   "metadata": {},
   "source": [
    "<p style=\"text-align:center\">\n",
    "    <a href=\"https://skills.network/?utm_medium=Exinfluencer&utm_source=Exinfluencer&utm_content=000026UJ&utm_term=10006555&utm_id=NA-SkillsNetwork-Channel-SkillsNetworkCoursesIBMDA0321ENSkillsNetwork928-2022-01-01\" target=\"_blank\">\n",
    "    <img src=\"https://cf-courses-data.s3.us.cloud-object-storage.appdomain.cloud/assets/logos/SN_web_lightmode.png\" width=\"200\" alt=\"Skills Network Logo\"  />\n",
    "    </a>\n",
    "</p>\n"
   ]
  },
  {
   "cell_type": "markdown",
   "metadata": {},
   "source": [
    "# **Data Wrangling Lab**\n"
   ]
  },
  {
   "cell_type": "markdown",
   "metadata": {},
   "source": [
    "Estimated time needed: **45 to 60** minutes\n"
   ]
  },
  {
   "cell_type": "markdown",
   "metadata": {},
   "source": [
    "In this assignment you will be performing data wrangling.\n"
   ]
  },
  {
   "cell_type": "markdown",
   "metadata": {},
   "source": [
    "## Objectives\n"
   ]
  },
  {
   "cell_type": "markdown",
   "metadata": {},
   "source": [
    "In this lab you will perform the following:\n"
   ]
  },
  {
   "cell_type": "markdown",
   "metadata": {},
   "source": [
    "-   Identify duplicate values in the dataset.\n",
    "\n",
    "-   Remove duplicate values from the dataset.\n",
    "\n",
    "-   Identify missing values in the dataset.\n",
    "\n",
    "-   Impute the missing values in the dataset.\n",
    "\n",
    "-   Normalize data in the dataset.\n"
   ]
  },
  {
   "cell_type": "markdown",
   "metadata": {},
   "source": [
    "<hr>\n"
   ]
  },
  {
   "cell_type": "markdown",
   "metadata": {},
   "source": [
    "## Hands on Lab\n"
   ]
  },
  {
   "cell_type": "markdown",
   "metadata": {},
   "source": [
    "Import pandas module.\n"
   ]
  },
  {
   "cell_type": "code",
   "execution_count": 1,
   "metadata": {
    "tags": []
   },
   "outputs": [],
   "source": [
    "import pandas as pd"
   ]
  },
  {
   "cell_type": "markdown",
   "metadata": {},
   "source": [
    "Load the dataset into a dataframe.\n"
   ]
  },
  {
   "cell_type": "code",
   "execution_count": 2,
   "metadata": {
    "tags": []
   },
   "outputs": [],
   "source": [
    "df = pd.read_csv(\"https://cf-courses-data.s3.us.cloud-object-storage.appdomain.cloud/IBM-DA0321EN-SkillsNetwork/LargeData/m1_survey_data.csv\")"
   ]
  },
  {
   "cell_type": "markdown",
   "metadata": {},
   "source": [
    "## Finding duplicates\n"
   ]
  },
  {
   "cell_type": "markdown",
   "metadata": {},
   "source": [
    "In this section you will identify duplicate values in the dataset.\n"
   ]
  },
  {
   "cell_type": "markdown",
   "metadata": {},
   "source": [
    " Find how many duplicate rows exist in the dataframe.\n"
   ]
  },
  {
   "cell_type": "code",
   "execution_count": 3,
   "metadata": {
    "tags": []
   },
   "outputs": [
    {
     "name": "stdout",
     "output_type": "stream",
     "text": [
      "Number of duplicate rows: 154\n"
     ]
    }
   ],
   "source": [
    "num_duplicates = df.duplicated().sum()\n",
    "print(f\"Number of duplicate rows: {num_duplicates}\")"
   ]
  },
  {
   "cell_type": "markdown",
   "metadata": {},
   "source": [
    "## Removing duplicates\n"
   ]
  },
  {
   "cell_type": "markdown",
   "metadata": {},
   "source": [
    "Remove the duplicate rows from the dataframe.\n"
   ]
  },
  {
   "cell_type": "code",
   "execution_count": 4,
   "metadata": {
    "tags": []
   },
   "outputs": [],
   "source": [
    "#df = df.drop_duplicates()\n",
    "result_df = df.drop_duplicates(keep=False)\n",
    " df=df.drop_duplicates()  \n",
    "\n",
    "To find missing valuse, use:\n",
    "\n",
    " df.isnull().sum()"
   ]
  },
  {
   "cell_type": "markdown",
   "metadata": {},
   "source": [
    "Verify if duplicates were actually dropped.\n"
   ]
  },
  {
   "cell_type": "code",
   "execution_count": 7,
   "metadata": {
    "tags": []
   },
   "outputs": [
    {
     "data": {
      "text/plain": [
       "11305"
      ]
     },
     "execution_count": 7,
     "metadata": {},
     "output_type": "execute_result"
    }
   ],
   "source": [
    "len(result_df)"
   ]
  },
  {
   "cell_type": "markdown",
   "metadata": {},
   "source": [
    "## Finding Missing values\n"
   ]
  },
  {
   "cell_type": "markdown",
   "metadata": {},
   "source": [
    "Find the missing values for all columns.\n"
   ]
  },
  {
   "cell_type": "code",
   "execution_count": 9,
   "metadata": {
    "tags": []
   },
   "outputs": [
    {
     "data": {
      "text/html": [
       "<div>\n",
       "<style scoped>\n",
       "    .dataframe tbody tr th:only-of-type {\n",
       "        vertical-align: middle;\n",
       "    }\n",
       "\n",
       "    .dataframe tbody tr th {\n",
       "        vertical-align: top;\n",
       "    }\n",
       "\n",
       "    .dataframe thead th {\n",
       "        text-align: right;\n",
       "    }\n",
       "</style>\n",
       "<table border=\"1\" class=\"dataframe\">\n",
       "  <thead>\n",
       "    <tr style=\"text-align: right;\">\n",
       "      <th></th>\n",
       "      <th>Respondent</th>\n",
       "      <th>MainBranch</th>\n",
       "      <th>Hobbyist</th>\n",
       "      <th>OpenSourcer</th>\n",
       "      <th>OpenSource</th>\n",
       "      <th>Employment</th>\n",
       "      <th>Country</th>\n",
       "      <th>Student</th>\n",
       "      <th>EdLevel</th>\n",
       "      <th>UndergradMajor</th>\n",
       "      <th>...</th>\n",
       "      <th>WelcomeChange</th>\n",
       "      <th>SONewContent</th>\n",
       "      <th>Age</th>\n",
       "      <th>Gender</th>\n",
       "      <th>Trans</th>\n",
       "      <th>Sexuality</th>\n",
       "      <th>Ethnicity</th>\n",
       "      <th>Dependents</th>\n",
       "      <th>SurveyLength</th>\n",
       "      <th>SurveyEase</th>\n",
       "    </tr>\n",
       "  </thead>\n",
       "  <tbody>\n",
       "    <tr>\n",
       "      <th>0</th>\n",
       "      <td>False</td>\n",
       "      <td>False</td>\n",
       "      <td>False</td>\n",
       "      <td>False</td>\n",
       "      <td>False</td>\n",
       "      <td>False</td>\n",
       "      <td>False</td>\n",
       "      <td>False</td>\n",
       "      <td>False</td>\n",
       "      <td>False</td>\n",
       "      <td>...</td>\n",
       "      <td>False</td>\n",
       "      <td>False</td>\n",
       "      <td>False</td>\n",
       "      <td>False</td>\n",
       "      <td>False</td>\n",
       "      <td>False</td>\n",
       "      <td>False</td>\n",
       "      <td>False</td>\n",
       "      <td>False</td>\n",
       "      <td>False</td>\n",
       "    </tr>\n",
       "    <tr>\n",
       "      <th>1</th>\n",
       "      <td>False</td>\n",
       "      <td>False</td>\n",
       "      <td>False</td>\n",
       "      <td>False</td>\n",
       "      <td>False</td>\n",
       "      <td>False</td>\n",
       "      <td>False</td>\n",
       "      <td>False</td>\n",
       "      <td>False</td>\n",
       "      <td>False</td>\n",
       "      <td>...</td>\n",
       "      <td>False</td>\n",
       "      <td>True</td>\n",
       "      <td>False</td>\n",
       "      <td>False</td>\n",
       "      <td>False</td>\n",
       "      <td>False</td>\n",
       "      <td>False</td>\n",
       "      <td>False</td>\n",
       "      <td>False</td>\n",
       "      <td>False</td>\n",
       "    </tr>\n",
       "    <tr>\n",
       "      <th>2</th>\n",
       "      <td>False</td>\n",
       "      <td>False</td>\n",
       "      <td>False</td>\n",
       "      <td>False</td>\n",
       "      <td>False</td>\n",
       "      <td>False</td>\n",
       "      <td>False</td>\n",
       "      <td>False</td>\n",
       "      <td>False</td>\n",
       "      <td>False</td>\n",
       "      <td>...</td>\n",
       "      <td>False</td>\n",
       "      <td>False</td>\n",
       "      <td>False</td>\n",
       "      <td>False</td>\n",
       "      <td>False</td>\n",
       "      <td>False</td>\n",
       "      <td>False</td>\n",
       "      <td>False</td>\n",
       "      <td>False</td>\n",
       "      <td>False</td>\n",
       "    </tr>\n",
       "    <tr>\n",
       "      <th>3</th>\n",
       "      <td>False</td>\n",
       "      <td>False</td>\n",
       "      <td>False</td>\n",
       "      <td>False</td>\n",
       "      <td>False</td>\n",
       "      <td>False</td>\n",
       "      <td>False</td>\n",
       "      <td>False</td>\n",
       "      <td>False</td>\n",
       "      <td>True</td>\n",
       "      <td>...</td>\n",
       "      <td>False</td>\n",
       "      <td>False</td>\n",
       "      <td>False</td>\n",
       "      <td>False</td>\n",
       "      <td>False</td>\n",
       "      <td>False</td>\n",
       "      <td>False</td>\n",
       "      <td>False</td>\n",
       "      <td>False</td>\n",
       "      <td>False</td>\n",
       "    </tr>\n",
       "    <tr>\n",
       "      <th>4</th>\n",
       "      <td>False</td>\n",
       "      <td>False</td>\n",
       "      <td>False</td>\n",
       "      <td>False</td>\n",
       "      <td>False</td>\n",
       "      <td>False</td>\n",
       "      <td>False</td>\n",
       "      <td>False</td>\n",
       "      <td>False</td>\n",
       "      <td>False</td>\n",
       "      <td>...</td>\n",
       "      <td>False</td>\n",
       "      <td>False</td>\n",
       "      <td>False</td>\n",
       "      <td>False</td>\n",
       "      <td>False</td>\n",
       "      <td>False</td>\n",
       "      <td>False</td>\n",
       "      <td>False</td>\n",
       "      <td>False</td>\n",
       "      <td>False</td>\n",
       "    </tr>\n",
       "    <tr>\n",
       "      <th>...</th>\n",
       "      <td>...</td>\n",
       "      <td>...</td>\n",
       "      <td>...</td>\n",
       "      <td>...</td>\n",
       "      <td>...</td>\n",
       "      <td>...</td>\n",
       "      <td>...</td>\n",
       "      <td>...</td>\n",
       "      <td>...</td>\n",
       "      <td>...</td>\n",
       "      <td>...</td>\n",
       "      <td>...</td>\n",
       "      <td>...</td>\n",
       "      <td>...</td>\n",
       "      <td>...</td>\n",
       "      <td>...</td>\n",
       "      <td>...</td>\n",
       "      <td>...</td>\n",
       "      <td>...</td>\n",
       "      <td>...</td>\n",
       "      <td>...</td>\n",
       "    </tr>\n",
       "    <tr>\n",
       "      <th>11547</th>\n",
       "      <td>False</td>\n",
       "      <td>False</td>\n",
       "      <td>False</td>\n",
       "      <td>False</td>\n",
       "      <td>False</td>\n",
       "      <td>False</td>\n",
       "      <td>False</td>\n",
       "      <td>False</td>\n",
       "      <td>False</td>\n",
       "      <td>False</td>\n",
       "      <td>...</td>\n",
       "      <td>False</td>\n",
       "      <td>False</td>\n",
       "      <td>False</td>\n",
       "      <td>False</td>\n",
       "      <td>False</td>\n",
       "      <td>False</td>\n",
       "      <td>False</td>\n",
       "      <td>False</td>\n",
       "      <td>False</td>\n",
       "      <td>False</td>\n",
       "    </tr>\n",
       "    <tr>\n",
       "      <th>11548</th>\n",
       "      <td>False</td>\n",
       "      <td>False</td>\n",
       "      <td>False</td>\n",
       "      <td>False</td>\n",
       "      <td>False</td>\n",
       "      <td>False</td>\n",
       "      <td>False</td>\n",
       "      <td>False</td>\n",
       "      <td>False</td>\n",
       "      <td>False</td>\n",
       "      <td>...</td>\n",
       "      <td>False</td>\n",
       "      <td>False</td>\n",
       "      <td>False</td>\n",
       "      <td>False</td>\n",
       "      <td>False</td>\n",
       "      <td>False</td>\n",
       "      <td>False</td>\n",
       "      <td>False</td>\n",
       "      <td>False</td>\n",
       "      <td>False</td>\n",
       "    </tr>\n",
       "    <tr>\n",
       "      <th>11549</th>\n",
       "      <td>False</td>\n",
       "      <td>False</td>\n",
       "      <td>False</td>\n",
       "      <td>False</td>\n",
       "      <td>False</td>\n",
       "      <td>False</td>\n",
       "      <td>False</td>\n",
       "      <td>False</td>\n",
       "      <td>False</td>\n",
       "      <td>False</td>\n",
       "      <td>...</td>\n",
       "      <td>False</td>\n",
       "      <td>False</td>\n",
       "      <td>False</td>\n",
       "      <td>False</td>\n",
       "      <td>False</td>\n",
       "      <td>False</td>\n",
       "      <td>False</td>\n",
       "      <td>False</td>\n",
       "      <td>False</td>\n",
       "      <td>False</td>\n",
       "    </tr>\n",
       "    <tr>\n",
       "      <th>11550</th>\n",
       "      <td>False</td>\n",
       "      <td>False</td>\n",
       "      <td>False</td>\n",
       "      <td>False</td>\n",
       "      <td>False</td>\n",
       "      <td>False</td>\n",
       "      <td>False</td>\n",
       "      <td>False</td>\n",
       "      <td>False</td>\n",
       "      <td>True</td>\n",
       "      <td>...</td>\n",
       "      <td>False</td>\n",
       "      <td>True</td>\n",
       "      <td>False</td>\n",
       "      <td>False</td>\n",
       "      <td>False</td>\n",
       "      <td>False</td>\n",
       "      <td>False</td>\n",
       "      <td>False</td>\n",
       "      <td>False</td>\n",
       "      <td>False</td>\n",
       "    </tr>\n",
       "    <tr>\n",
       "      <th>11551</th>\n",
       "      <td>False</td>\n",
       "      <td>False</td>\n",
       "      <td>False</td>\n",
       "      <td>False</td>\n",
       "      <td>False</td>\n",
       "      <td>False</td>\n",
       "      <td>False</td>\n",
       "      <td>False</td>\n",
       "      <td>False</td>\n",
       "      <td>False</td>\n",
       "      <td>...</td>\n",
       "      <td>False</td>\n",
       "      <td>False</td>\n",
       "      <td>False</td>\n",
       "      <td>False</td>\n",
       "      <td>False</td>\n",
       "      <td>False</td>\n",
       "      <td>False</td>\n",
       "      <td>False</td>\n",
       "      <td>False</td>\n",
       "      <td>False</td>\n",
       "    </tr>\n",
       "  </tbody>\n",
       "</table>\n",
       "<p>11305 rows × 85 columns</p>\n",
       "</div>"
      ],
      "text/plain": [
       "       Respondent  MainBranch  Hobbyist  OpenSourcer  OpenSource  Employment  \\\n",
       "0           False       False     False        False       False       False   \n",
       "1           False       False     False        False       False       False   \n",
       "2           False       False     False        False       False       False   \n",
       "3           False       False     False        False       False       False   \n",
       "4           False       False     False        False       False       False   \n",
       "...           ...         ...       ...          ...         ...         ...   \n",
       "11547       False       False     False        False       False       False   \n",
       "11548       False       False     False        False       False       False   \n",
       "11549       False       False     False        False       False       False   \n",
       "11550       False       False     False        False       False       False   \n",
       "11551       False       False     False        False       False       False   \n",
       "\n",
       "       Country  Student  EdLevel  UndergradMajor  ...  WelcomeChange  \\\n",
       "0        False    False    False           False  ...          False   \n",
       "1        False    False    False           False  ...          False   \n",
       "2        False    False    False           False  ...          False   \n",
       "3        False    False    False            True  ...          False   \n",
       "4        False    False    False           False  ...          False   \n",
       "...        ...      ...      ...             ...  ...            ...   \n",
       "11547    False    False    False           False  ...          False   \n",
       "11548    False    False    False           False  ...          False   \n",
       "11549    False    False    False           False  ...          False   \n",
       "11550    False    False    False            True  ...          False   \n",
       "11551    False    False    False           False  ...          False   \n",
       "\n",
       "       SONewContent    Age  Gender  Trans  Sexuality  Ethnicity  Dependents  \\\n",
       "0             False  False   False  False      False      False       False   \n",
       "1              True  False   False  False      False      False       False   \n",
       "2             False  False   False  False      False      False       False   \n",
       "3             False  False   False  False      False      False       False   \n",
       "4             False  False   False  False      False      False       False   \n",
       "...             ...    ...     ...    ...        ...        ...         ...   \n",
       "11547         False  False   False  False      False      False       False   \n",
       "11548         False  False   False  False      False      False       False   \n",
       "11549         False  False   False  False      False      False       False   \n",
       "11550          True  False   False  False      False      False       False   \n",
       "11551         False  False   False  False      False      False       False   \n",
       "\n",
       "       SurveyLength  SurveyEase  \n",
       "0             False       False  \n",
       "1             False       False  \n",
       "2             False       False  \n",
       "3             False       False  \n",
       "4             False       False  \n",
       "...             ...         ...  \n",
       "11547         False       False  \n",
       "11548         False       False  \n",
       "11549         False       False  \n",
       "11550         False       False  \n",
       "11551         False       False  \n",
       "\n",
       "[11305 rows x 85 columns]"
      ]
     },
     "execution_count": 9,
     "metadata": {},
     "output_type": "execute_result"
    }
   ],
   "source": [
    "result_df.isnull()"
   ]
  },
  {
   "cell_type": "markdown",
   "metadata": {},
   "source": [
    "Find out how many rows are missing in the column 'WorkLoc'\n"
   ]
  },
  {
   "cell_type": "code",
   "execution_count": 13,
   "metadata": {
    "tags": []
   },
   "outputs": [
    {
     "name": "stdout",
     "output_type": "stream",
     "text": [
      "       Respondent                                         MainBranch Hobbyist  \\\n",
      "130           285                     I am a developer by profession      Yes   \n",
      "242           550                     I am a developer by profession      Yes   \n",
      "866          1847                     I am a developer by profession      Yes   \n",
      "1455         2826                     I am a developer by profession      Yes   \n",
      "1753         3536                     I am a developer by profession      Yes   \n",
      "2339         4768                     I am a developer by profession      Yes   \n",
      "2689         5562                     I am a developer by profession       No   \n",
      "2788         5769                     I am a developer by profession      Yes   \n",
      "3165         6613                     I am a developer by profession       No   \n",
      "3213         6721                     I am a developer by profession       No   \n",
      "3690         7799  I am not primarily a developer, but I write co...      Yes   \n",
      "3996         8456                     I am a developer by profession      Yes   \n",
      "4944        10508                     I am a developer by profession       No   \n",
      "5654        12043                     I am a developer by profession      Yes   \n",
      "5671        12087                     I am a developer by profession       No   \n",
      "5824        12434                     I am a developer by profession       No   \n",
      "6321        13491                     I am a developer by profession      Yes   \n",
      "7361        15765  I am not primarily a developer, but I write co...      Yes   \n",
      "7557        16228                     I am a developer by profession       No   \n",
      "7714        16572                     I am a developer by profession      Yes   \n",
      "7779        16738                     I am a developer by profession      Yes   \n",
      "8010        17226                     I am a developer by profession      Yes   \n",
      "8188        17634                     I am a developer by profession      Yes   \n",
      "8855        19118                     I am a developer by profession      Yes   \n",
      "9066        19578                     I am a developer by profession       No   \n",
      "9070        19586                     I am a developer by profession      Yes   \n",
      "10219       22033                     I am a developer by profession       No   \n",
      "10709       23189                     I am a developer by profession      Yes   \n",
      "10951       23724                     I am a developer by profession      Yes   \n",
      "11253       24435                     I am a developer by profession       No   \n",
      "11331       24620                     I am a developer by profession      Yes   \n",
      "11521       25082                     I am a developer by profession      Yes   \n",
      "\n",
      "                                             OpenSourcer  \\\n",
      "130                                                Never   \n",
      "242                              Less than once per year   \n",
      "866                                                Never   \n",
      "1455   Less than once a month but more than once per ...   \n",
      "1753                          Once a month or more often   \n",
      "2339   Less than once a month but more than once per ...   \n",
      "2689                                               Never   \n",
      "2788   Less than once a month but more than once per ...   \n",
      "3165                             Less than once per year   \n",
      "3213   Less than once a month but more than once per ...   \n",
      "3690                                               Never   \n",
      "3996   Less than once a month but more than once per ...   \n",
      "4944                             Less than once per year   \n",
      "5654                                               Never   \n",
      "5671                                               Never   \n",
      "5824   Less than once a month but more than once per ...   \n",
      "6321   Less than once a month but more than once per ...   \n",
      "7361   Less than once a month but more than once per ...   \n",
      "7557                                               Never   \n",
      "7714   Less than once a month but more than once per ...   \n",
      "7779                          Once a month or more often   \n",
      "8010                                               Never   \n",
      "8188                                               Never   \n",
      "8855                             Less than once per year   \n",
      "9066                          Once a month or more often   \n",
      "9070                             Less than once per year   \n",
      "10219                                              Never   \n",
      "10709                            Less than once per year   \n",
      "10951  Less than once a month but more than once per ...   \n",
      "11253                            Less than once per year   \n",
      "11331                                              Never   \n",
      "11521                            Less than once per year   \n",
      "\n",
      "                                              OpenSource          Employment  \\\n",
      "130    The quality of OSS and closed source software ...  Employed full-time   \n",
      "242    The quality of OSS and closed source software ...  Employed full-time   \n",
      "866    The quality of OSS and closed source software ...  Employed full-time   \n",
      "1455   OSS is, on average, of HIGHER quality than pro...  Employed full-time   \n",
      "1753   OSS is, on average, of HIGHER quality than pro...  Employed full-time   \n",
      "2339   OSS is, on average, of HIGHER quality than pro...  Employed full-time   \n",
      "2689   The quality of OSS and closed source software ...  Employed full-time   \n",
      "2788                                                 NaN  Employed full-time   \n",
      "3165   OSS is, on average, of HIGHER quality than pro...  Employed full-time   \n",
      "3213                                                 NaN  Employed full-time   \n",
      "3690   OSS is, on average, of HIGHER quality than pro...  Employed full-time   \n",
      "3996   OSS is, on average, of HIGHER quality than pro...  Employed full-time   \n",
      "4944   The quality of OSS and closed source software ...  Employed full-time   \n",
      "5654   The quality of OSS and closed source software ...  Employed full-time   \n",
      "5671   The quality of OSS and closed source software ...  Employed full-time   \n",
      "5824   The quality of OSS and closed source software ...  Employed full-time   \n",
      "6321   OSS is, on average, of LOWER quality than prop...  Employed full-time   \n",
      "7361   The quality of OSS and closed source software ...  Employed full-time   \n",
      "7557   The quality of OSS and closed source software ...  Employed full-time   \n",
      "7714   OSS is, on average, of HIGHER quality than pro...  Employed full-time   \n",
      "7779   OSS is, on average, of HIGHER quality than pro...  Employed full-time   \n",
      "8010   OSS is, on average, of HIGHER quality than pro...  Employed full-time   \n",
      "8188   OSS is, on average, of HIGHER quality than pro...  Employed full-time   \n",
      "8855   OSS is, on average, of HIGHER quality than pro...  Employed full-time   \n",
      "9066   OSS is, on average, of HIGHER quality than pro...  Employed full-time   \n",
      "9070   OSS is, on average, of HIGHER quality than pro...  Employed full-time   \n",
      "10219  OSS is, on average, of HIGHER quality than pro...  Employed full-time   \n",
      "10709  The quality of OSS and closed source software ...  Employed full-time   \n",
      "10951  OSS is, on average, of HIGHER quality than pro...  Employed full-time   \n",
      "11253  The quality of OSS and closed source software ...  Employed full-time   \n",
      "11331  The quality of OSS and closed source software ...  Employed full-time   \n",
      "11521  OSS is, on average, of HIGHER quality than pro...  Employed full-time   \n",
      "\n",
      "              Country         Student  \\\n",
      "130    United Kingdom              No   \n",
      "242            Canada              No   \n",
      "866     United States              No   \n",
      "1455      Switzerland  Yes, part-time   \n",
      "1753          Austria  Yes, part-time   \n",
      "2339    United States              No   \n",
      "2689            India              No   \n",
      "2788      Switzerland              No   \n",
      "3165    United States              No   \n",
      "3213          Germany              No   \n",
      "3690    United States              No   \n",
      "3996           France              No   \n",
      "4944          Estonia              No   \n",
      "5654       Bangladesh              No   \n",
      "5671           Mexico              No   \n",
      "5824            Italy              No   \n",
      "6321            India              No   \n",
      "7361          Austria              No   \n",
      "7557         Slovenia              No   \n",
      "7714   United Kingdom              No   \n",
      "7779    United States              No   \n",
      "8010          Germany              No   \n",
      "8188            India              No   \n",
      "8855           Brazil              No   \n",
      "9066    United States              No   \n",
      "9070          Germany              No   \n",
      "10219           India              No   \n",
      "10709         Germany              No   \n",
      "10951   United States              No   \n",
      "11253           India              No   \n",
      "11331         Germany              No   \n",
      "11521         Germany              No   \n",
      "\n",
      "                                                 EdLevel  \\\n",
      "130             Bachelor’s degree (BA, BS, B.Eng., etc.)   \n",
      "242             Bachelor’s degree (BA, BS, B.Eng., etc.)   \n",
      "866             Bachelor’s degree (BA, BS, B.Eng., etc.)   \n",
      "1455            Bachelor’s degree (BA, BS, B.Eng., etc.)   \n",
      "1753            Bachelor’s degree (BA, BS, B.Eng., etc.)   \n",
      "2339            Bachelor’s degree (BA, BS, B.Eng., etc.)   \n",
      "2689         Master’s degree (MA, MS, M.Eng., MBA, etc.)   \n",
      "2788         Master’s degree (MA, MS, M.Eng., MBA, etc.)   \n",
      "3165            Bachelor’s degree (BA, BS, B.Eng., etc.)   \n",
      "3213            Bachelor’s degree (BA, BS, B.Eng., etc.)   \n",
      "3690   Some college/university study without earning ...   \n",
      "3996            Bachelor’s degree (BA, BS, B.Eng., etc.)   \n",
      "4944         Master’s degree (MA, MS, M.Eng., MBA, etc.)   \n",
      "5654            Bachelor’s degree (BA, BS, B.Eng., etc.)   \n",
      "5671            Bachelor’s degree (BA, BS, B.Eng., etc.)   \n",
      "5824         Master’s degree (MA, MS, M.Eng., MBA, etc.)   \n",
      "6321            Bachelor’s degree (BA, BS, B.Eng., etc.)   \n",
      "7361           Other doctoral degree (Ph.D, Ed.D., etc.)   \n",
      "7557            Bachelor’s degree (BA, BS, B.Eng., etc.)   \n",
      "7714            Bachelor’s degree (BA, BS, B.Eng., etc.)   \n",
      "7779         Master’s degree (MA, MS, M.Eng., MBA, etc.)   \n",
      "8010                                    Associate degree   \n",
      "8188            Bachelor’s degree (BA, BS, B.Eng., etc.)   \n",
      "8855            Bachelor’s degree (BA, BS, B.Eng., etc.)   \n",
      "9066            Bachelor’s degree (BA, BS, B.Eng., etc.)   \n",
      "9070            Bachelor’s degree (BA, BS, B.Eng., etc.)   \n",
      "10219           Bachelor’s degree (BA, BS, B.Eng., etc.)   \n",
      "10709        Master’s degree (MA, MS, M.Eng., MBA, etc.)   \n",
      "10951  Some college/university study without earning ...   \n",
      "11253  Some college/university study without earning ...   \n",
      "11331  Secondary school (e.g. American high school, G...   \n",
      "11521           Bachelor’s degree (BA, BS, B.Eng., etc.)   \n",
      "\n",
      "                                          UndergradMajor  ...  \\\n",
      "130    Computer science, computer engineering, or sof...  ...   \n",
      "242    Computer science, computer engineering, or sof...  ...   \n",
      "866    A humanities discipline (ex. literature, histo...  ...   \n",
      "1455   Information systems, information technology, o...  ...   \n",
      "1753   Computer science, computer engineering, or sof...  ...   \n",
      "2339   Computer science, computer engineering, or sof...  ...   \n",
      "2689                                                 NaN  ...   \n",
      "2788   A natural science (ex. biology, chemistry, phy...  ...   \n",
      "3165   Fine arts or performing arts (ex. graphic desi...  ...   \n",
      "3213   Computer science, computer engineering, or sof...  ...   \n",
      "3690   Information systems, information technology, o...  ...   \n",
      "3996   Computer science, computer engineering, or sof...  ...   \n",
      "4944   Another engineering discipline (ex. civil, ele...  ...   \n",
      "5654   Computer science, computer engineering, or sof...  ...   \n",
      "5671   Computer science, computer engineering, or sof...  ...   \n",
      "5824                           Mathematics or statistics  ...   \n",
      "6321   Computer science, computer engineering, or sof...  ...   \n",
      "7361   A natural science (ex. biology, chemistry, phy...  ...   \n",
      "7557                       Web development or web design  ...   \n",
      "7714   Computer science, computer engineering, or sof...  ...   \n",
      "7779   Computer science, computer engineering, or sof...  ...   \n",
      "8010   Computer science, computer engineering, or sof...  ...   \n",
      "8188   Computer science, computer engineering, or sof...  ...   \n",
      "8855   Computer science, computer engineering, or sof...  ...   \n",
      "9066   Computer science, computer engineering, or sof...  ...   \n",
      "9070   Computer science, computer engineering, or sof...  ...   \n",
      "10219  Computer science, computer engineering, or sof...  ...   \n",
      "10709  Another engineering discipline (ex. civil, ele...  ...   \n",
      "10951  A humanities discipline (ex. literature, histo...  ...   \n",
      "11253  Another engineering discipline (ex. civil, ele...  ...   \n",
      "11331                                                NaN  ...   \n",
      "11521  Computer science, computer engineering, or sof...  ...   \n",
      "\n",
      "                                  WelcomeChange  \\\n",
      "130     Just as welcome now as I felt last year   \n",
      "242     Just as welcome now as I felt last year   \n",
      "866     Just as welcome now as I felt last year   \n",
      "1455   Somewhat less welcome now than last year   \n",
      "1753    Just as welcome now as I felt last year   \n",
      "2339    Just as welcome now as I felt last year   \n",
      "2689    Just as welcome now as I felt last year   \n",
      "2788    Just as welcome now as I felt last year   \n",
      "3165    Just as welcome now as I felt last year   \n",
      "3213    Just as welcome now as I felt last year   \n",
      "3690    Just as welcome now as I felt last year   \n",
      "3996    Just as welcome now as I felt last year   \n",
      "4944    Just as welcome now as I felt last year   \n",
      "5654    Just as welcome now as I felt last year   \n",
      "5671    Just as welcome now as I felt last year   \n",
      "5824    Just as welcome now as I felt last year   \n",
      "6321   Somewhat more welcome now than last year   \n",
      "7361    Just as welcome now as I felt last year   \n",
      "7557    Just as welcome now as I felt last year   \n",
      "7714    Just as welcome now as I felt last year   \n",
      "7779    Just as welcome now as I felt last year   \n",
      "8010                                        NaN   \n",
      "8188   Somewhat more welcome now than last year   \n",
      "8855      A lot more welcome now than last year   \n",
      "9066    Just as welcome now as I felt last year   \n",
      "9070    Just as welcome now as I felt last year   \n",
      "10219   Just as welcome now as I felt last year   \n",
      "10709   Just as welcome now as I felt last year   \n",
      "10951   Just as welcome now as I felt last year   \n",
      "11253   Just as welcome now as I felt last year   \n",
      "11331   Just as welcome now as I felt last year   \n",
      "11521   Just as welcome now as I felt last year   \n",
      "\n",
      "                                            SONewContent   Age Gender Trans  \\\n",
      "130    Tech articles written by other developers;Indu...  32.0    Man    No   \n",
      "242    Tech meetups or events in your area;Courses on...  37.0    Man    No   \n",
      "866    Industry news about technologies you're intere...  28.0    Man    No   \n",
      "1455                 Tech meetups or events in your area  29.0    Man    No   \n",
      "1753                 Tech meetups or events in your area  35.0    Man    No   \n",
      "2339                                                 NaN  24.0    Man    No   \n",
      "2689   Tech articles written by other developers;Tech...  28.0  Woman    No   \n",
      "2788   Tech meetups or events in your area;Courses on...  26.0    Man    No   \n",
      "3165   Tech articles written by other developers;Indu...  36.0    Man    No   \n",
      "3213           Tech articles written by other developers  34.0    Man    No   \n",
      "3690   Tech articles written by other developers;Indu...  54.0    Man    No   \n",
      "3996   Tech articles written by other developers;Indu...  26.0    Man    No   \n",
      "4944        Courses on technologies you're interested in  56.0    Man    No   \n",
      "5654           Tech articles written by other developers  23.0    Man    No   \n",
      "5671                                                 NaN  33.0    Man    No   \n",
      "5824   Industry news about technologies you're intere...  29.0  Woman    No   \n",
      "6321   Tech articles written by other developers;Indu...  25.0    Man    No   \n",
      "7361   Tech articles written by other developers;Indu...  36.0    Man    No   \n",
      "7557        Courses on technologies you're interested in  31.0    Man    No   \n",
      "7714   Tech articles written by other developers;Indu...  50.0    Man    No   \n",
      "7779                                                 NaN  36.0    Man    No   \n",
      "8010                                                 NaN  39.0    Man    No   \n",
      "8188   Tech articles written by other developers;Indu...  25.0    Man    No   \n",
      "8855   Tech articles written by other developers;Indu...  22.0    Man    No   \n",
      "9066   Tech articles written by other developers;Tech...  35.0    Man    No   \n",
      "9070   Tech articles written by other developers;Indu...  22.0    Man    No   \n",
      "10219  Tech articles written by other developers;Indu...  24.0  Woman    No   \n",
      "10709                                                NaN  44.0    Man    No   \n",
      "10951  Tech articles written by other developers;Indu...  35.0    Man    No   \n",
      "11253  Tech articles written by other developers;Tech...  22.0    Man    No   \n",
      "11331  Tech articles written by other developers;Indu...  38.0    Man    No   \n",
      "11521  Tech articles written by other developers;Indu...  35.0    Man    No   \n",
      "\n",
      "                     Sexuality  \\\n",
      "130    Straight / Heterosexual   \n",
      "242    Straight / Heterosexual   \n",
      "866    Straight / Heterosexual   \n",
      "1455   Straight / Heterosexual   \n",
      "1753                       NaN   \n",
      "2339   Straight / Heterosexual   \n",
      "2689   Straight / Heterosexual   \n",
      "2788   Straight / Heterosexual   \n",
      "3165   Straight / Heterosexual   \n",
      "3213   Straight / Heterosexual   \n",
      "3690   Straight / Heterosexual   \n",
      "3996   Straight / Heterosexual   \n",
      "4944   Straight / Heterosexual   \n",
      "5654   Straight / Heterosexual   \n",
      "5671   Straight / Heterosexual   \n",
      "5824   Straight / Heterosexual   \n",
      "6321   Straight / Heterosexual   \n",
      "7361   Straight / Heterosexual   \n",
      "7557   Straight / Heterosexual   \n",
      "7714   Straight / Heterosexual   \n",
      "7779   Straight / Heterosexual   \n",
      "8010   Straight / Heterosexual   \n",
      "8188   Straight / Heterosexual   \n",
      "8855   Straight / Heterosexual   \n",
      "9066                  Bisexual   \n",
      "9070   Straight / Heterosexual   \n",
      "10219  Straight / Heterosexual   \n",
      "10709  Straight / Heterosexual   \n",
      "10951  Straight / Heterosexual   \n",
      "11253  Straight / Heterosexual   \n",
      "11331  Straight / Heterosexual   \n",
      "11521  Straight / Heterosexual   \n",
      "\n",
      "                                               Ethnicity Dependents  \\\n",
      "130                         White or of European descent         No   \n",
      "242                         White or of European descent        Yes   \n",
      "866                                                  NaN         No   \n",
      "1455                        White or of European descent         No   \n",
      "1753                        White or of European descent         No   \n",
      "2339                        White or of European descent         No   \n",
      "2689                                                 NaN         No   \n",
      "2788                        White or of European descent         No   \n",
      "3165                        White or of European descent        Yes   \n",
      "3213                        White or of European descent         No   \n",
      "3690   Hispanic or Latino/Latina;White or of European...        Yes   \n",
      "3996                        White or of European descent         No   \n",
      "4944                        White or of European descent         No   \n",
      "5654                                         South Asian        Yes   \n",
      "5671                           Hispanic or Latino/Latina        Yes   \n",
      "5824                        White or of European descent         No   \n",
      "6321                                          East Asian         No   \n",
      "7361                        White or of European descent        Yes   \n",
      "7557                        White or of European descent         No   \n",
      "7714                        White or of European descent         No   \n",
      "7779                        White or of European descent        Yes   \n",
      "8010                        White or of European descent         No   \n",
      "8188                                          East Asian        Yes   \n",
      "8855                        White or of European descent         No   \n",
      "9066                        White or of European descent         No   \n",
      "9070                        White or of European descent         No   \n",
      "10219                                        Multiracial        Yes   \n",
      "10709                       White or of European descent        Yes   \n",
      "10951                       White or of European descent        Yes   \n",
      "11253                                        South Asian         No   \n",
      "11331                       White or of European descent        Yes   \n",
      "11521                       White or of European descent        Yes   \n",
      "\n",
      "                SurveyLength                  SurveyEase  \n",
      "130                 Too long                         NaN  \n",
      "242    Appropriate in length                        Easy  \n",
      "866                 Too long                        Easy  \n",
      "1455                Too long  Neither easy nor difficult  \n",
      "1753   Appropriate in length                        Easy  \n",
      "2339                Too long                        Easy  \n",
      "2689                Too long  Neither easy nor difficult  \n",
      "2788   Appropriate in length                        Easy  \n",
      "3165   Appropriate in length  Neither easy nor difficult  \n",
      "3213   Appropriate in length                        Easy  \n",
      "3690   Appropriate in length                        Easy  \n",
      "3996   Appropriate in length  Neither easy nor difficult  \n",
      "4944   Appropriate in length                        Easy  \n",
      "5654   Appropriate in length                        Easy  \n",
      "5671   Appropriate in length                        Easy  \n",
      "5824   Appropriate in length                        Easy  \n",
      "6321               Too short  Neither easy nor difficult  \n",
      "7361   Appropriate in length  Neither easy nor difficult  \n",
      "7557   Appropriate in length                        Easy  \n",
      "7714   Appropriate in length                        Easy  \n",
      "7779   Appropriate in length  Neither easy nor difficult  \n",
      "8010   Appropriate in length  Neither easy nor difficult  \n",
      "8188                Too long                        Easy  \n",
      "8855   Appropriate in length                        Easy  \n",
      "9066   Appropriate in length  Neither easy nor difficult  \n",
      "9070   Appropriate in length                        Easy  \n",
      "10219  Appropriate in length                        Easy  \n",
      "10709  Appropriate in length                        Easy  \n",
      "10951  Appropriate in length  Neither easy nor difficult  \n",
      "11253               Too long                   Difficult  \n",
      "11331  Appropriate in length  Neither easy nor difficult  \n",
      "11521               Too long  Neither easy nor difficult  \n",
      "\n",
      "[32 rows x 85 columns]\n"
     ]
    }
   ],
   "source": [
    "nan_in_col = result_df[result_df['WorkLoc'].isnull()]\n",
    "print(nan_in_col)"
   ]
  },
  {
   "cell_type": "markdown",
   "metadata": {},
   "source": [
    "## Imputing missing values\n"
   ]
  },
  {
   "cell_type": "markdown",
   "metadata": {},
   "source": [
    "Find the  value counts for the column WorkLoc.\n"
   ]
  },
  {
   "cell_type": "code",
   "execution_count": 14,
   "metadata": {
    "tags": []
   },
   "outputs": [
    {
     "data": {
      "text/plain": [
       "Office                                            6747\n",
       "Home                                              3559\n",
       "Other place, such as a coworking space or cafe     967\n",
       "Name: WorkLoc, dtype: int64"
      ]
     },
     "execution_count": 14,
     "metadata": {},
     "output_type": "execute_result"
    }
   ],
   "source": [
    "result_df['WorkLoc'].value_counts()"
   ]
  },
  {
   "cell_type": "markdown",
   "metadata": {},
   "source": [
    "Identify the value that is most frequent (majority) in the WorkLoc column.\n"
   ]
  },
  {
   "cell_type": "code",
   "execution_count": 17,
   "metadata": {
    "tags": []
   },
   "outputs": [
    {
     "data": {
      "text/plain": [
       "0    Office\n",
       "dtype: object"
      ]
     },
     "execution_count": 17,
     "metadata": {},
     "output_type": "execute_result"
    }
   ],
   "source": [
    "result_df['WorkLoc'].mode()"
   ]
  },
  {
   "cell_type": "markdown",
   "metadata": {},
   "source": [
    "Impute (replace) all the empty rows in the column WorkLoc with the value that you have identified as majority.\n"
   ]
  },
  {
   "cell_type": "code",
   "execution_count": 19,
   "metadata": {
    "tags": []
   },
   "outputs": [
    {
     "data": {
      "text/plain": [
       "0                                                  Home\n",
       "1                                                Office\n",
       "2                                                  Home\n",
       "3                                                  Home\n",
       "4        Other place, such as a coworking space or cafe\n",
       "                              ...                      \n",
       "11547                                              Home\n",
       "11548                                              Home\n",
       "11549                                            Office\n",
       "11550                                              Home\n",
       "11551                                            Office\n",
       "Name: WorkLoc, Length: 11305, dtype: object"
      ]
     },
     "execution_count": 19,
     "metadata": {},
     "output_type": "execute_result"
    }
   ],
   "source": [
    "df2 = result_df.WorkLoc.replace('','Office')\n",
    "df2"
   ]
  },
  {
   "cell_type": "markdown",
   "metadata": {},
   "source": [
    "After imputation there should ideally not be any empty rows in the WorkLoc column.\n"
   ]
  },
  {
   "cell_type": "markdown",
   "metadata": {},
   "source": [
    "Verify if imputing was successful.\n"
   ]
  },
  {
   "cell_type": "code",
   "execution_count": 22,
   "metadata": {
    "tags": []
   },
   "outputs": [
    {
     "data": {
      "text/plain": [
       "0        False\n",
       "1        False\n",
       "2        False\n",
       "3        False\n",
       "4        False\n",
       "         ...  \n",
       "11547    False\n",
       "11548    False\n",
       "11549    False\n",
       "11550    False\n",
       "11551    False\n",
       "Name: WorkLoc, Length: 11305, dtype: bool"
      ]
     },
     "execution_count": 22,
     "metadata": {},
     "output_type": "execute_result"
    }
   ],
   "source": [
    "df2.isnull()"
   ]
  },
  {
   "cell_type": "markdown",
   "metadata": {},
   "source": [
    "## Normalizing data\n"
   ]
  },
  {
   "cell_type": "markdown",
   "metadata": {},
   "source": [
    "There are two columns in the dataset that talk about compensation.\n",
    "\n",
    "One is \"CompFreq\". This column shows how often a developer is paid (Yearly, Monthly, Weekly).\n",
    "\n",
    "The other is \"CompTotal\". This column talks about how much the developer is paid per Year, Month, or Week depending upon his/her \"CompFreq\". \n",
    "\n",
    "This makes it difficult to compare the total compensation of the developers.\n",
    "\n",
    "In this section you will create a new column called 'NormalizedAnnualCompensation' which contains the 'Annual Compensation' irrespective of the 'CompFreq'.\n",
    "\n",
    "Once this column is ready, it makes comparison of salaries easy.\n"
   ]
  },
  {
   "cell_type": "markdown",
   "metadata": {},
   "source": [
    "<hr>\n"
   ]
  },
  {
   "cell_type": "markdown",
   "metadata": {},
   "source": [
    "List out the various categories in the column 'CompFreq'\n"
   ]
  },
  {
   "cell_type": "code",
   "execution_count": 23,
   "metadata": {
    "tags": []
   },
   "outputs": [
    {
     "name": "stdout",
     "output_type": "stream",
     "text": [
      "Unique categories in 'CompFreq':\n",
      "Monthly\n",
      "Bi-Weekly\n",
      "Annually\n"
     ]
    }
   ],
   "source": [
    "df = pd.DataFrame({'CompFreq': ['Monthly', 'Bi-Weekly', 'Monthly', 'Annually']})\n",
    "\n",
    "unique_categories = df['CompFreq'].unique()\n",
    "\n",
    "print(\"Unique categories in 'CompFreq':\")\n",
    "for category in unique_categories:\n",
    "    print(category)"
   ]
  },
  {
   "cell_type": "markdown",
   "metadata": {},
   "source": [
    "Create a new column named 'NormalizedAnnualCompensation'. Use the hint given below if needed.\n"
   ]
  },
  {
   "cell_type": "markdown",
   "metadata": {},
   "source": [
    "Double click to see the **Hint**.\n",
    "\n",
    "<!--\n",
    "\n",
    "Use the below logic to arrive at the values for the column NormalizedAnnualCompensation.\n",
    "\n",
    "If the CompFreq is Yearly then use the exising value in CompTotal\n",
    "If the CompFreq is Monthly then multiply the value in CompTotal with 12 (months in an year)\n",
    "If the CompFreq is Weekly then multiply the value in CompTotal with 52 (weeks in an year)\n",
    "\n",
    "-->\n"
   ]
  },
  {
   "cell_type": "code",
   "execution_count": 24,
   "metadata": {
    "tags": []
   },
   "outputs": [
    {
     "name": "stdout",
     "output_type": "stream",
     "text": [
      "    CompFreq  CompTotal  NormalizedAnnualCompensation\n",
      "0    Monthly      10000                      120000.0\n",
      "1  Bi-Weekly      20000                      520000.0\n",
      "2    Monthly      15000                      180000.0\n",
      "3   Annually     120000                           NaN\n"
     ]
    }
   ],
   "source": [
    "df = pd.DataFrame({'CompFreq': ['Monthly', 'Bi-Weekly', 'Monthly', 'Annually'],\n",
    "                   'CompTotal': [10000, 20000, 15000, 120000]})\n",
    "\n",
    "\n",
    "def normalize_compensation(row):\n",
    "    if row['CompFreq'] == 'Yearly':\n",
    "        return row['CompTotal']\n",
    "    elif row['CompFreq'] == 'Monthly':\n",
    "        return row['CompTotal'] * 12\n",
    "    elif row['CompFreq'] == 'Bi-Weekly':\n",
    "        return row['CompTotal'] * 26\n",
    "    else:\n",
    "        return None\n",
    "\n",
    "\n",
    "df['NormalizedAnnualCompensation'] = df.apply(normalize_compensation, axis=1)\n",
    "\n",
    "print(df)"
   ]
  },
  {
   "cell_type": "markdown",
   "metadata": {},
   "source": [
    "## Authors\n"
   ]
  },
  {
   "cell_type": "markdown",
   "metadata": {},
   "source": [
    "Ramesh Sannareddy\n"
   ]
  },
  {
   "cell_type": "markdown",
   "metadata": {},
   "source": [
    "### Other Contributors\n"
   ]
  },
  {
   "cell_type": "markdown",
   "metadata": {},
   "source": [
    "Rav Ahuja\n"
   ]
  },
  {
   "cell_type": "markdown",
   "metadata": {},
   "source": [
    "## Change Log\n"
   ]
  },
  {
   "cell_type": "markdown",
   "metadata": {},
   "source": [
    "| Date (YYYY-MM-DD) | Version | Changed By        | Change Description                 |\n",
    "| ----------------- | ------- | ----------------- | ---------------------------------- |\n",
    "| 2020-10-17        | 0.1     | Ramesh Sannareddy | Created initial version of the lab |\n"
   ]
  },
  {
   "cell_type": "markdown",
   "metadata": {},
   "source": [
    " Copyright © 2020 IBM Corporation. This notebook and its source code are released under the terms of the [MIT License](https://cognitiveclass.ai/mit-license?utm_medium=Exinfluencer&utm_source=Exinfluencer&utm_content=000026UJ&utm_term=10006555&utm_id=NA-SkillsNetwork-Channel-SkillsNetworkCoursesIBMDA0321ENSkillsNetwork928-2022-01-01&cm_mmc=Email_Newsletter-_-Developer_Ed%2BTech-_-WW_WW-_-SkillsNetwork-Courses-IBM-DA0321EN-SkillsNetwork-21426264&cm_mmca1=000026UJ&cm_mmca2=10006555&cm_mmca3=M12345678&cvosrc=email.Newsletter.M12345678&cvo_campaign=000026UJ).\n"
   ]
  }
 ],
 "metadata": {
  "kernelspec": {
   "display_name": "Python",
   "language": "python",
   "name": "conda-env-python-py"
  },
  "language_info": {
   "codemirror_mode": {
    "name": "ipython",
    "version": 3
   },
   "file_extension": ".py",
   "mimetype": "text/x-python",
   "name": "python",
   "nbconvert_exporter": "python",
   "pygments_lexer": "ipython3",
   "version": "3.7.12"
  }
 },
 "nbformat": 4,
 "nbformat_minor": 4
}
